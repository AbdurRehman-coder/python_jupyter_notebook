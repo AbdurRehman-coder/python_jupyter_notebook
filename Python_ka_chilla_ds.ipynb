{
 "cells": [
  {
   "cell_type": "markdown",
   "id": "cfc09f64",
   "metadata": {},
   "source": [
    "# Python ka Chilla with #baba_aammar\n",
    "## How to use Jupyter Notebook\n",
    "### Python Basic\n",
    "### **01- My first Program**\n"
   ]
  },
  {
   "cell_type": "code",
   "execution_count": 22,
   "id": "2a0aa18a",
   "metadata": {},
   "outputs": [
    {
     "name": "stdout",
     "output_type": "stream",
     "text": [
      "5\n",
      "Hello World\n",
      "We are learing python with Aammar baba\n"
     ]
    }
   ],
   "source": [
    " print(2+3)\n",
    "print('Hello World')\n",
    "print('We are learing python with Aammar baba')"
   ]
  },
  {
   "cell_type": "markdown",
   "id": "c5d32364",
   "metadata": {},
   "source": [
    "## **02- operators**"
   ]
  },
  {
   "cell_type": "code",
   "execution_count": 15,
   "id": "65342364",
   "metadata": {},
   "outputs": [
    {
     "name": "stdout",
     "output_type": "stream",
     "text": [
      "6\n",
      "-3\n",
      "14\n",
      "4.5\n",
      "4\n",
      "-3\n",
      "9.7\n"
     ]
    }
   ],
   "source": [
    "print(2 + 4)\n",
    "print(5 - 8)\n",
    "print(7 * 2)\n",
    "print(9 / 2)\n",
    "print(9 // 2)  # 4\n",
    "# // it works like *Floor Division* in python\n",
    "# x // y == math.floo(x/y)\n",
    "\n",
    "print(-11 // 4)  #-3\n",
    "print(3**2/2*3/5-2+9)\n",
    "\n"
   ]
  },
  {
   "cell_type": "markdown",
   "id": "adf80917",
   "metadata": {},
   "source": [
    "PEMDAS, Parenthesis Exponents Multiplication Division Addition Subtraction, from left to right for M D and A S"
   ]
  },
  {
   "cell_type": "markdown",
   "id": "54047bf1",
   "metadata": {},
   "source": [
    "## **03- Strings**"
   ]
  },
  {
   "cell_type": "code",
   "execution_count": 20,
   "id": "bcfb01d1",
   "metadata": {},
   "outputs": [
    {
     "name": "stdout",
     "output_type": "stream",
     "text": [
      "Hello world\n",
      "Learning python ka Chilla with aammar baba\n",
      "Single qoute strings\n",
      "double qoute strings\n",
      "What's up?\n"
     ]
    }
   ],
   "source": [
    "print('Hello world')\n",
    "print('Learning python ka Chilla with aammar baba')\n",
    "print('Single qoute strings')\n",
    "print(\"double qoute strings\")\n",
    "print(\"What's up?\")"
   ]
  },
  {
   "cell_type": "markdown",
   "id": "70d02112",
   "metadata": {},
   "source": [
    "## **04- Comments in python**\n",
    "shortcut for comment out is: **ctrl + /**"
   ]
  },
  {
   "cell_type": "code",
   "execution_count": 21,
   "id": "3e855858",
   "metadata": {},
   "outputs": [
    {
     "name": "stdout",
     "output_type": "stream",
     "text": [
      "How are you\n",
      "We are Learning Python ka Chilla with aammar baba\n",
      "11\n"
     ]
    }
   ],
   "source": [
    "print('How are you') # press these to comment out, ctrl + /\n",
    "print('We are Learning Python ka Chilla with aammar baba') # print out the string\n",
    "\n",
    "print(3+8) #print the addition of two numbers"
   ]
  }
 ],
 "metadata": {
  "kernelspec": {
   "display_name": "Python 3 (ipykernel)",
   "language": "python",
   "name": "python3"
  },
  "language_info": {
   "codemirror_mode": {
    "name": "ipython",
    "version": 3
   },
   "file_extension": ".py",
   "mimetype": "text/x-python",
   "name": "python",
   "nbconvert_exporter": "python",
   "pygments_lexer": "ipython3",
   "version": "3.9.7"
  }
 },
 "nbformat": 4,
 "nbformat_minor": 5
}
