{
 "cells": [
  {
   "cell_type": "markdown",
   "id": "cfc09f64",
   "metadata": {},
   "source": [
    "# Python ka Chilla with #baba_aammar\n",
    "## How to use Jupyter Notebook\n",
    "### Python Basic\n",
    "### **01- My first Program**\n"
   ]
  },
  {
   "cell_type": "code",
   "execution_count": 1,
   "id": "2a0aa18a",
   "metadata": {},
   "outputs": [
    {
     "name": "stdout",
     "output_type": "stream",
     "text": [
      "5\n",
      "Hello World\n",
      "We are learing python with Aammar baba\n"
     ]
    }
   ],
   "source": [
    " print(2+3)\n",
    "print('Hello World')\n",
    "print('We are learing python with Aammar baba')"
   ]
  },
  {
   "cell_type": "markdown",
   "id": "c5d32364",
   "metadata": {},
   "source": [
    "## **02- operators**"
   ]
  },
  {
   "cell_type": "code",
   "execution_count": 2,
   "id": "65342364",
   "metadata": {},
   "outputs": [
    {
     "name": "stdout",
     "output_type": "stream",
     "text": [
      "6\n",
      "-3\n",
      "14\n",
      "4.5\n",
      "4\n",
      "-3\n",
      "9.7\n"
     ]
    }
   ],
   "source": [
    "print(2 + 4)\n",
    "print(5 - 8)\n",
    "print(7 * 2)\n",
    "print(9 / 2)\n",
    "print(9 // 2)  # 4\n",
    "# // it works like *Floor Division* in python\n",
    "# x // y == math.floo(x/y)\n",
    "\n",
    "print(-11 // 4)  #-3\n",
    "print(3**2/2*3/5-2+9)\n",
    "\n"
   ]
  },
  {
   "cell_type": "markdown",
   "id": "adf80917",
   "metadata": {},
   "source": [
    "PEMDAS, Parenthesis Exponents Multiplication Division Addition Subtraction, from left to right for M D and A S"
   ]
  },
  {
   "cell_type": "markdown",
   "id": "54047bf1",
   "metadata": {},
   "source": [
    "## **03- Strings**"
   ]
  },
  {
   "cell_type": "code",
   "execution_count": 3,
   "id": "bcfb01d1",
   "metadata": {},
   "outputs": [
    {
     "name": "stdout",
     "output_type": "stream",
     "text": [
      "Hello world\n",
      "Learning python ka Chilla with aammar baba\n",
      "Single qoute strings\n",
      "double qoute strings\n",
      "What's up?\n"
     ]
    }
   ],
   "source": [
    "print('Hello world')\n",
    "print('Learning python ka Chilla with aammar baba')\n",
    "print('Single qoute strings')\n",
    "print(\"double qoute strings\")\n",
    "print(\"What's up?\")"
   ]
  },
  {
   "cell_type": "markdown",
   "id": "70d02112",
   "metadata": {},
   "source": [
    "## **04- Comments in python**\n",
    "shortcut for comment out is: **ctrl + /**"
   ]
  },
  {
   "cell_type": "code",
   "execution_count": 4,
   "id": "3e855858",
   "metadata": {},
   "outputs": [
    {
     "name": "stdout",
     "output_type": "stream",
     "text": [
      "How are you\n",
      "We are Learning Python ka Chilla with aammar baba\n",
      "11\n"
     ]
    }
   ],
   "source": [
    "print('How are you') # press these to comment out, ctrl + /\n",
    "print('We are Learning Python ka Chilla with aammar baba') # print out the string\n",
    "\n",
    "print(3+8) #print the addition of two numbers"
   ]
  },
  {
   "cell_type": "markdown",
   "id": "b70515b9",
   "metadata": {},
   "source": [
    "## **05- Variables**"
   ]
  },
  {
   "cell_type": "markdown",
   "id": "9bfba3ad",
   "metadata": {},
   "source": [
    "#### Rules to assign variable names:\n",
    "1- *variable name should contain letters, numbers and underscore*\n",
    "\n",
    "2- *Do not start with numbers.*\n",
    "\n",
    "3- *spaces are not allowed*\n",
    "\n",
    "4- *Do not use keywords used in functions (break, mean, media, test, continue etc)*\n",
    "\n",
    "5- *short and descriptive*\n",
    "\n",
    "6- *case sensitive*"
   ]
  },
  {
   "cell_type": "code",
   "execution_count": 15,
   "id": "c5868138",
   "metadata": {},
   "outputs": [
    {
     "name": "stdout",
     "output_type": "stream",
     "text": [
      "<class 'str'>\n",
      "Banana\n"
     ]
    }
   ],
   "source": [
    "fruit_basket = 8\n",
    "fruit_basket = 'Banana' #it overrides the previous value\n",
    "print(type(fruit_basket)) # to find the type/class of variable\n",
    "print(fruit_basket)\n"
   ]
  },
  {
   "cell_type": "markdown",
   "id": "c8a7b4f9",
   "metadata": {},
   "source": [
    "## **06- Input Variable**"
   ]
  },
  {
   "cell_type": "code",
   "execution_count": 17,
   "id": "3600b1d2",
   "metadata": {},
   "outputs": [
    {
     "name": "stdout",
     "output_type": "stream",
     "text": [
      "What is your favourit fruit: Mangoes\n",
      "Mangoes\n"
     ]
    }
   ],
   "source": [
    "# simple input\n",
    "fruit_basket = input('What is your favourit fruit: ')\n",
    "print(fruit_basket)"
   ]
  },
  {
   "cell_type": "code",
   "execution_count": 18,
   "id": "7a1f0350",
   "metadata": {},
   "outputs": [
    {
     "name": "stdout",
     "output_type": "stream",
     "text": [
      "Enter your name:Abdur Rehman\n",
      "Hello Abdur Rehman\n"
     ]
    }
   ],
   "source": [
    "# input variable 2nd stage\n",
    "name = input('Enter your name:')\n",
    "greeting = 'Hello'\n",
    "print(greeting,name)"
   ]
  },
  {
   "cell_type": "code",
   "execution_count": 21,
   "id": "77478eb8",
   "metadata": {},
   "outputs": [
    {
     "name": "stdout",
     "output_type": "stream",
     "text": [
      "Enter your name:Rehman\n",
      "Enter your age:22\n",
      "Hello Rehman ,you are still young\n"
     ]
    }
   ],
   "source": [
    "# input variable 3rd stage\n",
    "name = input('Enter your name:')\n",
    "age = input('Enter your age:')\n",
    "greeting = \"Hello\"\n",
    "print(greeting,name, ',you are still young')"
   ]
  },
  {
   "cell_type": "markdown",
   "id": "c1b100d1",
   "metadata": {},
   "source": [
    "## **07- Conditional Logics**"
   ]
  },
  {
   "cell_type": "code",
   "execution_count": 24,
   "id": "34fcac75",
   "metadata": {},
   "outputs": [
    {
     "name": "stdout",
     "output_type": "stream",
     "text": [
      "True\n",
      "False\n",
      "False\n"
     ]
    }
   ],
   "source": [
    "# check if 4 is equal to 4\n",
    "print(4==4)\n",
    "print(4 != 4)\n",
    "print(4 > 7)"
   ]
  },
  {
   "cell_type": "code",
   "execution_count": 27,
   "id": "7e6c7cac",
   "metadata": {},
   "outputs": [
    {
     "name": "stdout",
     "output_type": "stream",
     "text": [
      "Enter your age:5\n",
      "True\n"
     ]
    }
   ],
   "source": [
    " # input variables with conditional logics\n",
    "age_at_school = 5\n",
    "current_age = int(input('Enter your age:'))\n",
    "print(age_at_school == current_age)  # logical operator"
   ]
  },
  {
   "cell_type": "markdown",
   "id": "94dea230",
   "metadata": {},
   "source": [
    "## **08- Type Conversion**"
   ]
  },
  {
   "cell_type": "code",
   "execution_count": 31,
   "id": "481cb63a",
   "metadata": {},
   "outputs": [
    {
     "name": "stdout",
     "output_type": "stream",
     "text": [
      "<class 'float'>\n",
      "Enter your age:12\n",
      "<class 'str'>\n",
      "<class 'int'>\n"
     ]
    }
   ],
   "source": [
    "# implicit type conversion\n",
    "x = 4\n",
    "y = 7.2\n",
    "x = x + y\n",
    "print(type(x))  # now x become floate\n",
    "\n",
    "# explicit type conversion\n",
    "age = input('Enter your age:')\n",
    "print(type(age))\n",
    "age = int(age)\n",
    "print(type(age))"
   ]
  },
  {
   "cell_type": "markdown",
   "id": "bdf96a25",
   "metadata": {},
   "source": [
    "## **09- if, elif, else statement**"
   ]
  },
  {
   "cell_type": "code",
   "execution_count": 37,
   "id": "1351cd57",
   "metadata": {},
   "outputs": [
    {
     "name": "stdout",
     "output_type": "stream",
     "text": [
      "Hamad can not join the school, He is still kid\n"
     ]
    }
   ],
   "source": [
    "hamad_age = 7\n",
    "age_required_at_school = 5\n",
    "\n",
    "# question is: Can Hamad join the school\n",
    "\n",
    "if hamad_age == age_required_at_school:\n",
    "    print('Hamad can join the school')\n",
    "elif hamad_age > age_required_at_school:\n",
    "    print('Hamad should join the higher school')\n",
    "elif hamad_age <= 2:\n",
    "    print('Hamad can not join the school, He is still kid')\n",
    "else: \n",
    "    print('Hamad will be soon ready to join the school')"
   ]
  },
  {
   "cell_type": "markdown",
   "id": "b8d02df2",
   "metadata": {},
   "source": [
    "## **10- Functions**"
   ]
  },
  {
   "cell_type": "code",
   "execution_count": 38,
   "id": "cd5737bc",
   "metadata": {},
   "outputs": [
    {
     "name": "stdout",
     "output_type": "stream",
     "text": [
      "We are learning with Aammar baba\n",
      "We are learning with Aammar baba\n",
      "We are learning with Aammar baba\n"
     ]
    }
   ],
   "source": [
    "# 1: simple function\n",
    "def print_codanics():\n",
    "    print('We are learning with Aammar baba')\n",
    "    print('We are learning with Aammar baba')\n",
    "    print('We are learning with Aammar baba')\n",
    "print_codanics()"
   ]
  },
  {
   "cell_type": "code",
   "execution_count": 40,
   "id": "1c9e22ad",
   "metadata": {},
   "outputs": [
    {
     "name": "stdout",
     "output_type": "stream",
     "text": [
      "We are learning with Aammar baba\n",
      "We are learning with Aammar baba\n",
      "We are learning with Aammar baba\n"
     ]
    }
   ],
   "source": [
    "# 2: storing text in variable and use multiple time\n",
    "\n",
    "def print_codanics():\n",
    "    text = 'We are learning with Aammar baba'\n",
    "    print(text)\n",
    "    print(text)\n",
    "    print(text)\n",
    "print_codanics()"
   ]
  },
  {
   "cell_type": "code",
   "execution_count": 41,
   "id": "f5775594",
   "metadata": {},
   "outputs": [
    {
     "name": "stdout",
     "output_type": "stream",
     "text": [
      "We are learning with Aammar baba\n",
      "We are learning with Aammar baba\n"
     ]
    }
   ],
   "source": [
    "# 3: passing value as an argument\n",
    "def print_codanics(text):\n",
    "    print(text)\n",
    "    print(text)\n",
    "print_codanics('We are learning with Aammar baba')"
   ]
  },
  {
   "cell_type": "code",
   "execution_count": 45,
   "id": "66f45755",
   "metadata": {},
   "outputs": [
    {
     "name": "stdout",
     "output_type": "stream",
     "text": [
      "23\n"
     ]
    }
   ],
   "source": [
    "# 4:  return value from function\n",
    "def print_codanics(age):\n",
    "    new_age = age + 10\n",
    "    return new_age\n",
    "predicating_future_function = print_codanics(13) # pass the called function into variable, because it return some values\n",
    "print(predicating_future_function)"
   ]
  },
  {
   "cell_type": "markdown",
   "id": "dada69e8",
   "metadata": {},
   "source": [
    "## **11- Loops (while, for_loop)**"
   ]
  },
  {
   "cell_type": "code",
   "execution_count": 1,
   "id": "6ceeae80",
   "metadata": {},
   "outputs": [
    {
     "name": "stdout",
     "output_type": "stream",
     "text": [
      "1\n",
      "2\n",
      "3\n",
      "4\n",
      "5\n"
     ]
    }
   ],
   "source": [
    "# while_loop \n",
    "x = 1\n",
    "while(x <= 5):\n",
    "    print(x)\n",
    "    x += 1\n",
    "    "
   ]
  },
  {
   "cell_type": "code",
   "execution_count": 4,
   "id": "a3848312",
   "metadata": {},
   "outputs": [
    {
     "name": "stdout",
     "output_type": "stream",
     "text": [
      "0\n",
      "1\n",
      "2\n",
      "3\n",
      "4\n",
      "5\n",
      "7\n",
      "9\n",
      "11\n",
      "13\n",
      "15\n",
      "17\n",
      "19\n"
     ]
    }
   ],
   "source": [
    "# for_loops\n",
    "\n",
    "# for range loop\n",
    "\n",
    "#by default it start from zero and jump one number,\n",
    "#but you can change these two numbers\n",
    "\n",
    "for number in range(5):\n",
    "    print(number)\n",
    "  # loop start from 5 upto 20 and jump 2 step  \n",
    "for number in range(5,20, 2):\n",
    "    print(number)"
   ]
  },
  {
   "cell_type": "code",
   "execution_count": 7,
   "id": "efc3ab80",
   "metadata": {},
   "outputs": [
    {
     "name": "stdout",
     "output_type": "stream",
     "text": [
      "Ali\n",
      "Baba\n",
      "Chilla\n"
     ]
    }
   ],
   "source": [
    "# iterate array through for_loop\n",
    "name = ['Ali', 'Khan', 'Baba', 'Chilla']\n",
    "\n",
    "for i in name:\n",
    "#     if i =='Khan': break\n",
    "    if i == 'Khan': continue\n",
    "    print(i)"
   ]
  },
  {
   "cell_type": "markdown",
   "id": "16a077f9",
   "metadata": {},
   "source": [
    "## **12- Import Libraries**"
   ]
  },
  {
   "cell_type": "code",
   "execution_count": 11,
   "id": "16050c01",
   "metadata": {},
   "outputs": [
    {
     "name": "stdout",
     "output_type": "stream",
     "text": [
      "The value of PI is:  3.141592653589793\n",
      "The mean of values array is:  245.5\n"
     ]
    }
   ],
   "source": [
    "# import math library, to use buil-in maths function\n",
    "import math\n",
    "# pi value is already defined in math lib\n",
    "print('The value of PI is: ', math.pi)\n",
    "\n",
    "# import statistic library to use its basic funtions\n",
    "import statistics\n",
    "values = [100,150,710, 22]\n",
    "print(\"The mean of values array is: \", statistics.mean(values))"
   ]
  },
  {
   "cell_type": "markdown",
   "id": "b6aad0e1",
   "metadata": {},
   "source": [
    "## **13- Trouble Shooting**"
   ]
  },
  {
   "cell_type": "code",
   "execution_count": 15,
   "id": "c0a5d0db",
   "metadata": {},
   "outputs": [
    {
     "name": "stdout",
     "output_type": "stream",
     "text": [
      "Hello, name\n",
      "Hello Rehman\n"
     ]
    }
   ],
   "source": [
    "# print(We are learing python) #syntax error\n",
    "# print(20 / 0)  # runtime erro\n",
    "\n",
    "name = \"Rehman\"\n",
    "print('Hello, name') # but we want value inside name, not name itself\n",
    "print('Hello', name)\n"
   ]
  },
  {
   "cell_type": "markdown",
   "id": "1a67cf01",
   "metadata": {},
   "source": [
    "### We have completed the Jupyter Notebook\n",
    "#### Python ka Chilla (Machine Learning) with #Aammar Baba\n",
    "**Abdur Rehman**"
   ]
  }
 ],
 "metadata": {
  "kernelspec": {
   "display_name": "Python 3 (ipykernel)",
   "language": "python",
   "name": "python3"
  },
  "language_info": {
   "codemirror_mode": {
    "name": "ipython",
    "version": 3
   },
   "file_extension": ".py",
   "mimetype": "text/x-python",
   "name": "python",
   "nbconvert_exporter": "python",
   "pygments_lexer": "ipython3",
   "version": "3.9.7"
  }
 },
 "nbformat": 4,
 "nbformat_minor": 5
}
