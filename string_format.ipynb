{
 "cells": [
  {
   "cell_type": "code",
   "execution_count": 1,
   "id": "9abbd184",
   "metadata": {},
   "outputs": [
    {
     "name": "stdout",
     "output_type": "stream",
     "text": [
      "I like Apples\n"
     ]
    }
   ],
   "source": [
    "print('I like {}' .format('Apples'))"
   ]
  },
  {
   "cell_type": "code",
   "execution_count": 2,
   "id": "e9053a9b",
   "metadata": {},
   "outputs": [
    {
     "name": "stdout",
     "output_type": "stream",
     "text": [
      "I like APPles\n"
     ]
    }
   ],
   "source": [
    "print('I like %s' %('APPles'))"
   ]
  },
  {
   "cell_type": "code",
   "execution_count": 3,
   "id": "fe1d1c06",
   "metadata": {},
   "outputs": [
    {
     "data": {
      "text/plain": [
       "0.5649717514124294"
      ]
     },
     "execution_count": 3,
     "metadata": {},
     "output_type": "execute_result"
    }
   ],
   "source": [
    "result = 100/177\n",
    "result"
   ]
  },
  {
   "cell_type": "code",
   "execution_count": 4,
   "id": "93945582",
   "metadata": {},
   "outputs": [
    {
     "name": "stdout",
     "output_type": "stream",
     "text": [
      "The result was: 0.565\n",
      "result: 0.5649717514124294\n"
     ]
    }
   ],
   "source": [
    "# Floating Formatting  {value : width.precision f}\n",
    "print('The result was: {r:5.3f}' .format( r = result))\n",
    "print(f'result: {result}')"
   ]
  },
  {
   "cell_type": "code",
   "execution_count": 13,
   "id": "074269ca",
   "metadata": {},
   "outputs": [
    {
     "name": "stdout",
     "output_type": "stream",
     "text": [
      "colors are Red Blue\n"
     ]
    }
   ],
   "source": [
    "\n",
    "red = 'Red'\n",
    "blue = 'Blue'\n",
    "print('colors are %s {b}'.format(b = blue) %(red) )"
   ]
  },
  {
   "cell_type": "code",
   "execution_count": null,
   "id": "3e1a7438",
   "metadata": {},
   "outputs": [],
   "source": []
  },
  {
   "cell_type": "code",
   "execution_count": null,
   "id": "7923a67a",
   "metadata": {},
   "outputs": [],
   "source": []
  },
  {
   "cell_type": "code",
   "execution_count": null,
   "id": "f8fb06cc",
   "metadata": {},
   "outputs": [],
   "source": []
  }
 ],
 "metadata": {
  "kernelspec": {
   "display_name": "Python 3 (ipykernel)",
   "language": "python",
   "name": "python3"
  },
  "language_info": {
   "codemirror_mode": {
    "name": "ipython",
    "version": 3
   },
   "file_extension": ".py",
   "mimetype": "text/x-python",
   "name": "python",
   "nbconvert_exporter": "python",
   "pygments_lexer": "ipython3",
   "version": "3.9.7"
  }
 },
 "nbformat": 4,
 "nbformat_minor": 5
}
