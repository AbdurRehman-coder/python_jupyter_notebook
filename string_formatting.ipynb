{
 "cells": [
  {
   "cell_type": "code",
   "execution_count": 8,
   "id": "ff2228c2",
   "metadata": {},
   "outputs": [
    {
     "name": "stdout",
     "output_type": "stream",
     "text": [
      "This is string INSERT here\n"
     ]
    }
   ],
   "source": [
    "value = 'INSERT'\n",
    "print('This is string {a} here' .format(a = value))"
   ]
  },
  {
   "cell_type": "code",
   "execution_count": null,
   "id": "8ac23a84",
   "metadata": {},
   "outputs": [],
   "source": []
  },
  {
   "cell_type": "code",
   "execution_count": 9,
   "id": "68a8b2f0",
   "metadata": {},
   "outputs": [
    {
     "name": "stdout",
     "output_type": "stream",
     "text": [
      "we are delighted to have you here\n"
     ]
    }
   ],
   "source": [
    "print('we are delighted %s have %s here' %('to' , 'you'))"
   ]
  },
  {
   "cell_type": "code",
   "execution_count": 15,
   "id": "f7c88f29",
   "metadata": {},
   "outputs": [
    {
     "name": "stdout",
     "output_type": "stream",
     "text": [
      "colors are blue red blue\n"
     ]
    }
   ],
   "source": [
    "print('colors are {b} {r} {b}'.format(r = 'red', b = 'blue', w = 'white'))"
   ]
  },
  {
   "cell_type": "code",
   "execution_count": 22,
   "id": "6a6756a8",
   "metadata": {},
   "outputs": [
    {
     "name": "stdout",
     "output_type": "stream",
     "text": [
      "Rehman is 24 year old\n"
     ]
    }
   ],
   "source": [
    "name = \"Rehman\"\n",
    "age = '24'\n",
    "print('%s is %s year old' %(name, age))"
   ]
  }
 ],
 "metadata": {
  "kernelspec": {
   "display_name": "Python 3 (ipykernel)",
   "language": "python",
   "name": "python3"
  },
  "language_info": {
   "codemirror_mode": {
    "name": "ipython",
    "version": 3
   },
   "file_extension": ".py",
   "mimetype": "text/x-python",
   "name": "python",
   "nbconvert_exporter": "python",
   "pygments_lexer": "ipython3",
   "version": "3.9.7"
  }
 },
 "nbformat": 4,
 "nbformat_minor": 5
}
