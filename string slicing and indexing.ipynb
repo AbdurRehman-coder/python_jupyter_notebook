{
 "cells": [
  {
   "cell_type": "code",
   "execution_count": null,
   "id": "d3e9bd09",
   "metadata": {},
   "outputs": [],
   "source": [
    "myString = \"Hello_baby_where\"\n",
    "myString"
   ]
  },
  {
   "cell_type": "code",
   "execution_count": 8,
   "id": "1ed693ef",
   "metadata": {},
   "outputs": [
    {
     "name": "stdout",
     "output_type": "stream",
     "text": [
      "e\n"
     ]
    }
   ],
   "source": [
    "print(myString[1])"
   ]
  },
  {
   "cell_type": "code",
   "execution_count": 12,
   "id": "d435d8ef",
   "metadata": {},
   "outputs": [
    {
     "name": "stdout",
     "output_type": "stream",
     "text": [
      "value: el_ay\n"
     ]
    }
   ],
   "source": [
    "#STring slicing in python\n",
    "after_value = myString[ 1 : 10 : 2]  \n",
    "print(f'value: {after_value}')"
   ]
  },
  {
   "cell_type": "code",
   "execution_count": 1,
   "id": "f794ae4a",
   "metadata": {},
   "outputs": [
    {
     "name": "stdout",
     "output_type": "stream",
     "text": [
      "Hi' Man\n"
     ]
    }
   ],
   "source": [
    "x = \"Hi' Man\"\n",
    "print(x);"
   ]
  },
  {
   "cell_type": "code",
   "execution_count": 5,
   "id": "be5400cf",
   "metadata": {},
   "outputs": [
    {
     "data": {
      "text/plain": [
       "'Hello World'"
      ]
     },
     "execution_count": 5,
     "metadata": {},
     "output_type": "execute_result"
    }
   ],
   "source": [
    "x = ' Hello World '\n",
    "x"
   ]
  },
  {
   "cell_type": "code",
   "execution_count": 10,
   "id": "0039d428",
   "metadata": {},
   "outputs": [
    {
     "data": {
      "text/plain": [
       "'Hello WorldHello World this is my world'"
      ]
     },
     "execution_count": 10,
     "metadata": {},
     "output_type": "execute_result"
    }
   ],
   "source": [
    "x * 2 + \" this is my world\""
   ]
  },
  {
   "cell_type": "code",
   "execution_count": 33,
   "id": "5c9bf7ac",
   "metadata": {},
   "outputs": [
    {
     "data": {
      "text/plain": [
       "['Th', 's ', 's my dec', 's', 'on']"
      ]
     },
     "execution_count": 33,
     "metadata": {},
     "output_type": "execute_result"
    }
   ],
   "source": [
    "x = 'This is my decision'\n",
    "x.split('i')"
   ]
  }
 ],
 "metadata": {
  "kernelspec": {
   "display_name": "Python 3 (ipykernel)",
   "language": "python",
   "name": "python3"
  },
  "language_info": {
   "codemirror_mode": {
    "name": "ipython",
    "version": 3
   },
   "file_extension": ".py",
   "mimetype": "text/x-python",
   "name": "python",
   "nbconvert_exporter": "python",
   "pygments_lexer": "ipython3",
   "version": "3.9.7"
  }
 },
 "nbformat": 4,
 "nbformat_minor": 5
}
