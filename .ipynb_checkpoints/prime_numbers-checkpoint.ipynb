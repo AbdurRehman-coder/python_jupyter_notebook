{
 "cells": [
  {
   "cell_type": "markdown",
   "id": "2e7571a6",
   "metadata": {},
   "source": [
    "# Prime Number\n",
    "## Find Prime number between in a range of number"
   ]
  },
  {
   "cell_type": "code",
   "execution_count": 4,
   "id": "d636cb37",
   "metadata": {},
   "outputs": [
    {
     "name": "stdout",
     "output_type": "stream",
     "text": [
      "Enter the start value: 1\n",
      "Enter the end value: 100\n",
      "2 3 5 7 11 13 17 19 23 29 31 37 41 43 47 53 59 61 67 71 73 79 83 89 97 "
     ]
    }
   ],
   "source": [
    "# find prime number between range of numbers\n",
    "# take inputs from user\n",
    "start_value = int(input('Enter the start value: '))\n",
    "end_value = int(input('Enter the end value: '))\n",
    "\n",
    "# for loop to start from start to end value\n",
    "for number in range(start_value, end_value + 1):\n",
    "    if number > 1: \n",
    "        # it will start from 2 to minus that specfic number which check is it prime or not\n",
    "        for i in range(2, number):\n",
    "            # if number divide equally any of that number, mean it is not prime number, So break it\n",
    "            if (number % i == 0):\n",
    "                break\n",
    "        else:\n",
    "            print(number, end=' ')"
   ]
  }
 ],
 "metadata": {
  "kernelspec": {
   "display_name": "Python 3 (ipykernel)",
   "language": "python",
   "name": "python3"
  },
  "language_info": {
   "codemirror_mode": {
    "name": "ipython",
    "version": 3
   },
   "file_extension": ".py",
   "mimetype": "text/x-python",
   "name": "python",
   "nbconvert_exporter": "python",
   "pygments_lexer": "ipython3",
   "version": "3.9.7"
  }
 },
 "nbformat": 4,
 "nbformat_minor": 5
}
